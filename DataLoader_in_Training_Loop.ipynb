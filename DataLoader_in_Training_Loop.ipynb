{
 "cells": [
  {
   "cell_type": "code",
   "execution_count": 5,
   "metadata": {},
   "outputs": [],
   "source": [
    "import pandas as pd\n",
    "import numpy as np\n",
    "import torch\n",
    "import torch.nn as nn\n",
    "import torch.optim as optim\n",
    "from torch.utils.data import Dataset, DataLoader, random_split, default_collate\n",
    "from sklearn.preprocessing import LabelEncoder"
   ]
  },
  {
   "cell_type": "markdown",
   "metadata": {},
   "source": [
    "## Read Data and convert them to numpy arrays using .values"
   ]
  },
  {
   "cell_type": "code",
   "execution_count": 9,
   "metadata": {},
   "outputs": [
    {
     "data": {
      "text/plain": [
       "((207, 60), (207,))"
      ]
     },
     "execution_count": 9,
     "metadata": {},
     "output_type": "execute_result"
    }
   ],
   "source": [
    "data = pd.read_csv('sonar_csv.csv')\n",
    "X = data.iloc[1:, 0:60].values\n",
    "y = data.iloc[1:, 60].values\n",
    "X.shape, y.shape"
   ]
  },
  {
   "cell_type": "markdown",
   "metadata": {},
   "source": [
    "## Encode class values as integers"
   ]
  },
  {
   "cell_type": "code",
   "execution_count": 12,
   "metadata": {},
   "outputs": [],
   "source": [
    "encoder = LabelEncoder()\n",
    "encoder.fit(y)\n",
    "y = encoder.transform(y).reshape(-1, 1)"
   ]
  },
  {
   "cell_type": "code",
   "execution_count": 13,
   "metadata": {},
   "outputs": [],
   "source": [
    "class SonarDataset(Dataset):\n",
    "    def __init__(self, X, y):\n",
    "        self.X = X\n",
    "        self.y = y\n",
    "        \n",
    "    def __len__(self):\n",
    "        return len(self.X)\n",
    "    \n",
    "    def __getitem__(self, idx):\n",
    "        features = self.X[idx]\n",
    "        target = self.y[idx]\n",
    "        return features, target"
   ]
  },
  {
   "cell_type": "code",
   "execution_count": 17,
   "metadata": {},
   "outputs": [],
   "source": [
    "dataset = SonarDataset(X, y)\n",
    "trainset, testset = random_split(dataset, [0.7, 0.3])\n",
    "loader = DataLoader(trainset, batch_size=16, shuffle=True)"
   ]
  },
  {
   "cell_type": "code",
   "execution_count": 15,
   "metadata": {},
   "outputs": [],
   "source": [
    "model = nn.Sequential(\n",
    "    nn.Linear(60, 60),\n",
    "    nn.ReLU(),\n",
    "    nn.Linear(60, 30),\n",
    "    nn.ReLU(),\n",
    "    nn.Linear(30, 1),\n",
    "    nn.Sigmoid()\n",
    ")"
   ]
  },
  {
   "cell_type": "code",
   "execution_count": 22,
   "metadata": {},
   "outputs": [
    {
     "name": "stdout",
     "output_type": "stream",
     "text": [
      "Epoch: 0, Loss: 0.003474641125649214, Accuracy: 1.0\n",
      "Epoch: 10, Loss: 0.09941381961107254, Accuracy: 1.0\n",
      "Epoch: 20, Loss: 0.02185257151722908, Accuracy: 1.0\n",
      "Epoch: 30, Loss: 0.02030925266444683, Accuracy: 1.0\n",
      "Epoch: 40, Loss: 0.004565887618809938, Accuracy: 1.0\n",
      "Epoch: 50, Loss: 0.0026962007395923138, Accuracy: 1.0\n",
      "Epoch: 60, Loss: 6.182855577208102e-05, Accuracy: 1.0\n",
      "Epoch: 70, Loss: 1.8494847608963028e-06, Accuracy: 1.0\n",
      "Epoch: 80, Loss: 0.00877311360090971, Accuracy: 1.0\n",
      "Epoch: 90, Loss: 5.650610546581447e-05, Accuracy: 1.0\n",
      "Epoch: 100, Loss: 0.000318039528792724, Accuracy: 1.0\n",
      "Epoch: 110, Loss: 3.612783257267438e-05, Accuracy: 1.0\n",
      "Epoch: 120, Loss: 1.6808651707833633e-05, Accuracy: 1.0\n",
      "Epoch: 130, Loss: 0.01765795238316059, Accuracy: 1.0\n",
      "Epoch: 140, Loss: 0.0, Accuracy: 1.0\n",
      "Epoch: 150, Loss: 0.0018390753539279103, Accuracy: 1.0\n",
      "Epoch: 160, Loss: 4.0742342832800205e-10, Accuracy: 1.0\n",
      "Epoch: 170, Loss: 0.0, Accuracy: 1.0\n",
      "Epoch: 180, Loss: 1.0081317469712303e-07, Accuracy: 1.0\n",
      "Epoch: 190, Loss: 0.00037466472713276744, Accuracy: 1.0\n"
     ]
    }
   ],
   "source": [
    "n_epochs = 200\n",
    "loss_fn = nn.BCELoss()\n",
    "optimizer = optim.Adam(model.parameters(), lr=0.001)\n",
    "model.train()\n",
    "for epoch in range(n_epochs):\n",
    "    for X_batch, y_batch in loader:\n",
    "        optimizer.zero_grad()\n",
    "        y_pred = model(X_batch.float())\n",
    "        loss = loss_fn(y_pred, y_batch.float())\n",
    "        loss.backward()\n",
    "        optimizer.step()\n",
    "    if epoch % 10 == 0:\n",
    "        print(f'Epoch: {epoch}, Loss: {loss.item()}, Accuracy: {((y_pred > 0.5) == y_batch).sum().item() / len(y_batch)}')"
   ]
  },
  {
   "cell_type": "code",
   "execution_count": 23,
   "metadata": {},
   "outputs": [
    {
     "name": "stdout",
     "output_type": "stream",
     "text": [
      "Accuracy: 0.7903225806451613\n"
     ]
    }
   ],
   "source": [
    "X_test, y_test = default_collate(testset)\n",
    "model.eval()\n",
    "y_pred = model(X_test.float())\n",
    "acc = ((y_pred > 0.5) == y_test).sum().item() / len(y_test)\n",
    "print(f'Accuracy: {acc}')"
   ]
  }
 ],
 "metadata": {
  "kernelspec": {
   "display_name": "Python 3",
   "language": "python",
   "name": "python3"
  },
  "language_info": {
   "codemirror_mode": {
    "name": "ipython",
    "version": 3
   },
   "file_extension": ".py",
   "mimetype": "text/x-python",
   "name": "python",
   "nbconvert_exporter": "python",
   "pygments_lexer": "ipython3",
   "version": "3.11.7"
  }
 },
 "nbformat": 4,
 "nbformat_minor": 2
}
